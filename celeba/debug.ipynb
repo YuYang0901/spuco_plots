{
 "cells": [
  {
   "cell_type": "code",
   "execution_count": 1,
   "metadata": {},
   "outputs": [],
   "source": [
    "import pickle \n",
    "from spuco.datasets import WILDSDatasetWrapper\n",
    "from wilds import get_dataset"
   ]
  },
  {
   "cell_type": "code",
   "execution_count": null,
   "metadata": {},
   "outputs": [],
   "source": [
    "dataset = get_dataset(dataset=\"celebA\", download=False, root_dir=\"/home/data\")\n"
   ]
  },
  {
   "cell_type": "code",
   "execution_count": 3,
   "metadata": {},
   "outputs": [
    {
     "name": "stderr",
     "output_type": "stream",
     "text": [
      "Partitioning data indices into groups: 100%|██████████| 162770/162770 [00:00<00:00, 704116.95it/s]\n",
      "Partitioning data indices into groups: 100%|██████████| 19867/19867 [00:00<00:00, 274953.52it/s]\n",
      "Partitioning data indices into groups: 100%|██████████| 19962/19962 [00:00<00:00, 312738.62it/s]\n"
     ]
    }
   ],
   "source": [
    "train_data = dataset.get_subset(\n",
    "        \"train\",\n",
    "        transform=None\n",
    "    )\n",
    "val_data = dataset.get_subset(\n",
    "    \"val\",\n",
    "    transform=None\n",
    ")\n",
    "test_data = dataset.get_subset(\n",
    "    \"test\",\n",
    "    transform=None\n",
    ")\n",
    "trainset = WILDSDatasetWrapper(dataset=train_data, metadata_spurious_label=\"male\", verbose=True)\n",
    "valset = WILDSDatasetWrapper(dataset=val_data, metadata_spurious_label=\"male\", verbose=True)\n",
    "testset = WILDSDatasetWrapper(dataset=test_data, metadata_spurious_label=\"male\", verbose=True)"
   ]
  },
  {
   "cell_type": "code",
   "execution_count": 32,
   "metadata": {},
   "outputs": [],
   "source": [
    "with open(\"/home/sjoshi/spuco_experiments/celeba/celeba_jtt_group_partition.pkl\", \"rb\") as f:\n",
    "    inferred_group_partition = pickle.load(f)"
   ]
  },
  {
   "cell_type": "code",
   "execution_count": 33,
   "metadata": {},
   "outputs": [
    {
     "name": "stdout",
     "output_type": "stream",
     "text": [
      "153814\n",
      "8956\n"
     ]
    }
   ],
   "source": [
    "print(len(inferred_group_partition[(0,0)]))\n",
    "print(len(inferred_group_partition[(0,1)]))"
   ]
  },
  {
   "cell_type": "code",
   "execution_count": 34,
   "metadata": {},
   "outputs": [
    {
     "name": "stdout",
     "output_type": "stream",
     "text": [
      "8956\n"
     ]
    }
   ],
   "source": [
    "print(len(inferred_group_partition[(0,1)]))"
   ]
  },
  {
   "cell_type": "code",
   "execution_count": 35,
   "metadata": {},
   "outputs": [],
   "source": [
    "from collections import Counter \n",
    "\n",
    "c = Counter(zip(np.array(trainset.labels)[inferred_group_partition[(0,1)]], np.array(trainset.spurious)[inferred_group_partition[(0,1)]]))"
   ]
  },
  {
   "cell_type": "code",
   "execution_count": 36,
   "metadata": {},
   "outputs": [
    {
     "data": {
      "text/plain": [
       "[((1, 0), 4127), ((0, 0), 3480), ((1, 1), 1001), ((0, 1), 348)]"
      ]
     },
     "execution_count": 36,
     "metadata": {},
     "output_type": "execute_result"
    }
   ],
   "source": [
    "c.most_common()"
   ]
  },
  {
   "cell_type": "code",
   "execution_count": 37,
   "metadata": {},
   "outputs": [
    {
     "name": "stdout",
     "output_type": "stream",
     "text": [
      "[71629. 66874.  1387. 22880.]\n"
     ]
    }
   ],
   "source": [
    "import numpy as np \n",
    "print(np.array(list(trainset.group_weights.values())) * len(trainset))"
   ]
  }
 ],
 "metadata": {
  "kernelspec": {
   "display_name": "clip",
   "language": "python",
   "name": "python3"
  },
  "language_info": {
   "codemirror_mode": {
    "name": "ipython",
    "version": 3
   },
   "file_extension": ".py",
   "mimetype": "text/x-python",
   "name": "python",
   "nbconvert_exporter": "python",
   "pygments_lexer": "ipython3",
   "version": "3.10.4"
  }
 },
 "nbformat": 4,
 "nbformat_minor": 2
}
